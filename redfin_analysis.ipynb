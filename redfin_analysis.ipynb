{
 "cells": [
  {
   "attachments": {},
   "cell_type": "markdown",
   "metadata": {},
   "source": [
    "# Question-3 Exploratory data analysis on house sales prices data in all counties of bay area. \u000b",
    "1) Median house prices\u000b",
    "2) Median dollar per square "
   ]
  },
  {
   "cell_type": "markdown",
   "metadata": {},
   "source": [
    "# 1) Median house prices"
   ]
  },
  {
   "cell_type": "code",
   "execution_count": 3,
   "metadata": {},
   "outputs": [],
   "source": [
    "import numpy as np\n",
    "import pandas as pd\n",
    "import matplotlib.pyplot as plt\n",
    "import seaborn as seabornInstance \n",
    "from sklearn.model_selection import train_test_split \n",
    "from sklearn.linear_model import LinearRegression\n",
    "from sklearn import metrics\n",
    "%matplotlib inline"
   ]
  },
  {
   "cell_type": "code",
   "execution_count": 6,
   "metadata": {},
   "outputs": [],
   "source": [
    "data_dir=\"F:/ALL SUB/SEM 2/DATA ANALYTICS/Project/Cleaned_data/Data_Cleaned_Files/\"\n",
    "new_data_file=\"Redfin_New_Cleaned.xlsx\"\n",
    "sold_data_file=\"Redfin_Sold_Cleaned_v2.xlsx\"\n"
   ]
  },
  {
   "cell_type": "code",
   "execution_count": 7,
   "metadata": {},
   "outputs": [
    {
     "data": {
      "text/plain": [
       "(3237, 29)"
      ]
     },
     "execution_count": 7,
     "metadata": {},
     "output_type": "execute_result"
    }
   ],
   "source": [
    "data_sold=pd.read_excel(data_dir+sold_data_file)\n",
    "data=data_sold[(data_sold['sold_price_list'].notnull()) & (data_sold['sold_price_list']>100000)]\n",
    "data.shape"
   ]
  },
  {
   "cell_type": "code",
   "execution_count": 8,
   "metadata": {},
   "outputs": [
    {
     "data": {
      "text/html": [
       "<div>\n",
       "<style scoped>\n",
       "    .dataframe tbody tr th:only-of-type {\n",
       "        vertical-align: middle;\n",
       "    }\n",
       "\n",
       "    .dataframe tbody tr th {\n",
       "        vertical-align: top;\n",
       "    }\n",
       "\n",
       "    .dataframe thead th {\n",
       "        text-align: right;\n",
       "    }\n",
       "</style>\n",
       "<table border=\"1\" class=\"dataframe\">\n",
       "  <thead>\n",
       "    <tr style=\"text-align: right;\">\n",
       "      <th></th>\n",
       "      <th>address</th>\n",
       "      <th>locality</th>\n",
       "      <th>region</th>\n",
       "      <th>postal_code</th>\n",
       "      <th>estimate_price</th>\n",
       "      <th>sold_price_list</th>\n",
       "      <th>sold_date_list</th>\n",
       "      <th>beds</th>\n",
       "      <th>baths</th>\n",
       "      <th>per_sq_ft</th>\n",
       "      <th>...</th>\n",
       "      <th>lot_size</th>\n",
       "      <th>stories</th>\n",
       "      <th>county</th>\n",
       "      <th>walkable</th>\n",
       "      <th>walkable Score</th>\n",
       "      <th>transit</th>\n",
       "      <th>transit score</th>\n",
       "      <th>bikeable</th>\n",
       "      <th>bikeable score</th>\n",
       "      <th># of schools</th>\n",
       "    </tr>\n",
       "  </thead>\n",
       "  <tbody>\n",
       "    <tr>\n",
       "      <th>0</th>\n",
       "      <td>11655 N Bella Vita Ave</td>\n",
       "      <td>Fresno</td>\n",
       "      <td>CA</td>\n",
       "      <td>93730</td>\n",
       "      <td>411339</td>\n",
       "      <td>405000.0</td>\n",
       "      <td>SOLD BY REDFIN DEC 19, 2019</td>\n",
       "      <td>3.0</td>\n",
       "      <td>2.00</td>\n",
       "      <td>250.0</td>\n",
       "      <td>...</td>\n",
       "      <td>NaN</td>\n",
       "      <td>NaN</td>\n",
       "      <td>Fresno</td>\n",
       "      <td>Car-Dependent</td>\n",
       "      <td>0.0</td>\n",
       "      <td>Minimal Transit</td>\n",
       "      <td>0.0</td>\n",
       "      <td>Somewhat Bikeable</td>\n",
       "      <td>46.0</td>\n",
       "      <td>3.0</td>\n",
       "    </tr>\n",
       "    <tr>\n",
       "      <th>1</th>\n",
       "      <td>3526 Magnificent Way</td>\n",
       "      <td>Clovis</td>\n",
       "      <td>CA</td>\n",
       "      <td>93619</td>\n",
       "      <td>258230</td>\n",
       "      <td>260000.0</td>\n",
       "      <td>SOLD BY REDFIN FEB 19, 2020</td>\n",
       "      <td>3.0</td>\n",
       "      <td>2.50</td>\n",
       "      <td>215.0</td>\n",
       "      <td>...</td>\n",
       "      <td>NaN</td>\n",
       "      <td>NaN</td>\n",
       "      <td>Fresno</td>\n",
       "      <td>Car-Dependent</td>\n",
       "      <td>2.0</td>\n",
       "      <td>NaN</td>\n",
       "      <td>NaN</td>\n",
       "      <td>Somewhat Bikeable</td>\n",
       "      <td>29.0</td>\n",
       "      <td>3.0</td>\n",
       "    </tr>\n",
       "    <tr>\n",
       "      <th>2</th>\n",
       "      <td>3875 E Rialto Ave</td>\n",
       "      <td>Fresno</td>\n",
       "      <td>CA</td>\n",
       "      <td>93726</td>\n",
       "      <td>267394</td>\n",
       "      <td>265000.0</td>\n",
       "      <td>SOLD BY REDFIN FEB 13, 2020</td>\n",
       "      <td>3.0</td>\n",
       "      <td>1.75</td>\n",
       "      <td>186.0</td>\n",
       "      <td>...</td>\n",
       "      <td>NaN</td>\n",
       "      <td>NaN</td>\n",
       "      <td>Fresno</td>\n",
       "      <td>Somewhat Walkable</td>\n",
       "      <td>50.0</td>\n",
       "      <td>Minimal Transit</td>\n",
       "      <td>42.0</td>\n",
       "      <td>Very Bikeable</td>\n",
       "      <td>73.0</td>\n",
       "      <td>3.0</td>\n",
       "    </tr>\n",
       "    <tr>\n",
       "      <th>3</th>\n",
       "      <td>1681 E Shea Dr</td>\n",
       "      <td>Fresno</td>\n",
       "      <td>CA</td>\n",
       "      <td>93720</td>\n",
       "      <td>320093</td>\n",
       "      <td>319000.0</td>\n",
       "      <td>SOLD BY REDFIN FEB 6, 2020</td>\n",
       "      <td>3.0</td>\n",
       "      <td>2.00</td>\n",
       "      <td>218.0</td>\n",
       "      <td>...</td>\n",
       "      <td>NaN</td>\n",
       "      <td>NaN</td>\n",
       "      <td>Fresno</td>\n",
       "      <td>Car-Dependent</td>\n",
       "      <td>43.0</td>\n",
       "      <td>Minimal Transit</td>\n",
       "      <td>19.0</td>\n",
       "      <td>Very Bikeable</td>\n",
       "      <td>76.0</td>\n",
       "      <td>3.0</td>\n",
       "    </tr>\n",
       "    <tr>\n",
       "      <th>4</th>\n",
       "      <td>817 Pinewood Ave</td>\n",
       "      <td>Sanger</td>\n",
       "      <td>CA</td>\n",
       "      <td>93657</td>\n",
       "      <td>301965</td>\n",
       "      <td>295000.0</td>\n",
       "      <td>SOLD BY REDFIN JAN 31, 2020</td>\n",
       "      <td>4.0</td>\n",
       "      <td>2.00</td>\n",
       "      <td>162.0</td>\n",
       "      <td>...</td>\n",
       "      <td>NaN</td>\n",
       "      <td>NaN</td>\n",
       "      <td>Fresno</td>\n",
       "      <td>Car-Dependent</td>\n",
       "      <td>34.0</td>\n",
       "      <td>NaN</td>\n",
       "      <td>NaN</td>\n",
       "      <td>Somewhat Bikeable</td>\n",
       "      <td>42.0</td>\n",
       "      <td>3.0</td>\n",
       "    </tr>\n",
       "  </tbody>\n",
       "</table>\n",
       "<p>5 rows × 29 columns</p>\n",
       "</div>"
      ],
      "text/plain": [
       "                   address locality region postal_code  estimate_price  \\\n",
       "0  11655 N Bella Vita Ave    Fresno     CA       93730          411339   \n",
       "1    3526 Magnificent Way    Clovis     CA       93619          258230   \n",
       "2       3875 E Rialto Ave    Fresno     CA       93726          267394   \n",
       "3          1681 E Shea Dr    Fresno     CA       93720          320093   \n",
       "4        817 Pinewood Ave    Sanger     CA       93657          301965   \n",
       "\n",
       "   sold_price_list               sold_date_list  beds  baths  per_sq_ft  ...  \\\n",
       "0         405000.0  SOLD BY REDFIN DEC 19, 2019   3.0   2.00      250.0  ...   \n",
       "1         260000.0  SOLD BY REDFIN FEB 19, 2020   3.0   2.50      215.0  ...   \n",
       "2         265000.0  SOLD BY REDFIN FEB 13, 2020   3.0   1.75      186.0  ...   \n",
       "3         319000.0   SOLD BY REDFIN FEB 6, 2020   3.0   2.00      218.0  ...   \n",
       "4         295000.0  SOLD BY REDFIN JAN 31, 2020   4.0   2.00      162.0  ...   \n",
       "\n",
       "   lot_size stories  county           walkable walkable Score  \\\n",
       "0       NaN     NaN  Fresno      Car-Dependent            0.0   \n",
       "1       NaN     NaN  Fresno      Car-Dependent            2.0   \n",
       "2       NaN     NaN  Fresno  Somewhat Walkable           50.0   \n",
       "3       NaN     NaN  Fresno      Car-Dependent           43.0   \n",
       "4       NaN     NaN  Fresno      Car-Dependent           34.0   \n",
       "\n",
       "           transit transit score           bikeable bikeable score  \\\n",
       "0  Minimal Transit           0.0  Somewhat Bikeable           46.0   \n",
       "1              NaN           NaN  Somewhat Bikeable           29.0   \n",
       "2  Minimal Transit          42.0      Very Bikeable           73.0   \n",
       "3  Minimal Transit          19.0      Very Bikeable           76.0   \n",
       "4              NaN           NaN  Somewhat Bikeable           42.0   \n",
       "\n",
       "   # of schools  \n",
       "0           3.0  \n",
       "1           3.0  \n",
       "2           3.0  \n",
       "3           3.0  \n",
       "4           3.0  \n",
       "\n",
       "[5 rows x 29 columns]"
      ]
     },
     "execution_count": 8,
     "metadata": {},
     "output_type": "execute_result"
    }
   ],
   "source": [
    "data.head()"
   ]
  },
  {
   "cell_type": "code",
   "execution_count": 10,
   "metadata": {},
   "outputs": [
    {
     "data": {
      "text/plain": [
       "county\n",
       "San Francisco    1275000.0\n",
       "Santa Clara      1250000.0\n",
       "Marin            1180000.0\n",
       "San Mateo        1130000.0\n",
       "Alameda           879000.0\n",
       "Santa Cruz        750000.0\n",
       "Santa Barbara     740000.0\n",
       "Contra Costa      692500.0\n",
       "Monterey          674500.0\n",
       "Orange            660000.0\n",
       "Name: sold_price_list, dtype: float64"
      ]
     },
     "execution_count": 10,
     "metadata": {},
     "output_type": "execute_result"
    }
   ],
   "source": [
    "median_house_price= data.groupby(\"county\")[\"sold_price_list\"].median()\n",
    "median_house_price.sort_values(ascending=False,inplace=True)\n",
    "median_house_price= median_house_price.head(10)\n",
    "median_house_price"
   ]
  },
  {
   "cell_type": "code",
   "execution_count": 12,
   "metadata": {},
   "outputs": [
    {
     "data": {
      "image/png": "[encoded data removed]",
      "text/plain": [
       "<Figure size 720x360 with 1 Axes>"
      ]
     },
     "metadata": {
      "needs_background": "light"
     },
     "output_type": "display_data"
    }
   ],
   "source": [
    "plt.figure(figsize=(10,5))\n",
    "ax= median_house_price.plot(kind='barh',width=0.8)\n",
    "plt.xlabel('Median_Sold_Price')\n",
    "plt.ylabel('County')\n",
    "plt.barh(median_house_price.index,median_house_price.values,color=['blue', 'black', 'brown', 'green', 'cyan'],alpha=0.9)\n",
    "\n",
    "for i in ax.patches[:10]:\n",
    "    # get_width pulls left or right; get_y pushes up or down\n",
    "    ax.text(i.get_width()+50, i.get_y()+.5, \\\n",
    "            str(round((i.get_width()), 1)), fontsize=11)\n",
    "# invert for largest on top \n",
    "ax.invert_yaxis()\n",
    "plt.show()\n"
   ]
  },
  {
   "cell_type": "markdown",
   "metadata": {},
   "source": [
    "# 2) Median dollar per square "
   ]
  },
  {
   "cell_type": "code",
   "execution_count": 13,
   "metadata": {},
   "outputs": [
    {
     "data": {
      "text/plain": [
       "county\n",
       "San Francisco    1034.0\n",
       "San Mateo         865.0\n",
       "Santa Clara       726.0\n",
       "Marin             655.5\n",
       "Nevada            537.5\n",
       "Santa Barbara     528.5\n",
       "Santa Cruz        501.0\n",
       "Alameda           498.5\n",
       "Los Angeles       473.0\n",
       "Contra Costa      423.5\n",
       "Name: per_sq_ft, dtype: float64"
      ]
     },
     "execution_count": 13,
     "metadata": {},
     "output_type": "execute_result"
    }
   ],
   "source": [
    "median_pice_per_sq= data.groupby(\"county\")[\"per_sq_ft\"].median()\n",
    "median_pice_per_sq.sort_values(ascending=False,inplace=True)\n",
    "median_pice_per_sq=median_pice_per_sq.head(10)\n",
    "median_pice_per_sq"
   ]
  },
  {
   "cell_type": "code",
   "execution_count": 14,
   "metadata": {},
   "outputs": [
    {
     "data": {
      "image/png": "[encoded data removed]",
      "text/plain": [
       "<Figure size 720x432 with 1 Axes>"
      ]
     },
     "metadata": {
      "needs_background": "light"
     },
     "output_type": "display_data"
    }
   ],
   "source": [
    "plt.figure(figsize=(10,6))\n",
    "ax= median_pice_per_sq.plot(kind='barh',width=0.8)\n",
    "plt.xlabel('Median_Sold_Price_per_sqft')\n",
    "plt.ylabel('County')\n",
    "plt.barh(median_pice_per_sq.index,median_pice_per_sq.values,color=['blue', 'black', 'brown', 'green', 'cyan','magenta'],alpha=0.9)\n",
    "\n",
    "for i in ax.patches[:10]:\n",
    "    # get_width pulls left or right; get_y pushes up or down\n",
    "    ax.text(i.get_width()+5, i.get_y()+.5, \\\n",
    "            str(round((i.get_width()), 1)), fontsize=11)\n",
    "\n",
    "# invert for largest on top \n",
    "ax.invert_yaxis()\n",
    "plt.show()"
   ]
  },
  {
   "attachments": {},
   "cell_type": "markdown",
   "metadata": {},
   "source": [
    "# Question 2 Where are the luxury homes (Price> 2M) located for potential new buyers?"
   ]
  },
  {
   "cell_type": "code",
   "execution_count": 15,
   "metadata": {
    "scrolled": true
   },
   "outputs": [
    {
     "data": {
      "text/html": [
       "<div>\n",
       "<style scoped>\n",
       "    .dataframe tbody tr th:only-of-type {\n",
       "        vertical-align: middle;\n",
       "    }\n",
       "\n",
       "    .dataframe tbody tr th {\n",
       "        vertical-align: top;\n",
       "    }\n",
       "\n",
       "    .dataframe thead th {\n",
       "        text-align: right;\n",
       "    }\n",
       "</style>\n",
       "<table border=\"1\" class=\"dataframe\">\n",
       "  <thead>\n",
       "    <tr style=\"text-align: right;\">\n",
       "      <th></th>\n",
       "      <th>address</th>\n",
       "      <th>locality</th>\n",
       "      <th>region</th>\n",
       "      <th>postal_code</th>\n",
       "      <th>price</th>\n",
       "      <th>beds</th>\n",
       "      <th>baths</th>\n",
       "      <th>per_sq_ft</th>\n",
       "      <th>area</th>\n",
       "      <th>on_redfin</th>\n",
       "      <th>...</th>\n",
       "      <th>lot_size</th>\n",
       "      <th>stories</th>\n",
       "      <th>county</th>\n",
       "      <th>walkable</th>\n",
       "      <th>walkable Score</th>\n",
       "      <th>transit</th>\n",
       "      <th>transit score</th>\n",
       "      <th>bikeable</th>\n",
       "      <th>bikeable score</th>\n",
       "      <th># of schools</th>\n",
       "    </tr>\n",
       "  </thead>\n",
       "  <tbody>\n",
       "    <tr>\n",
       "      <th>0</th>\n",
       "      <td>3715 Branding Iron Pl</td>\n",
       "      <td>Dublin</td>\n",
       "      <td>CA</td>\n",
       "      <td>94568</td>\n",
       "      <td>540000</td>\n",
       "      <td>2.0</td>\n",
       "      <td>1.5</td>\n",
       "      <td>531.0</td>\n",
       "      <td>1017.0</td>\n",
       "      <td>6</td>\n",
       "      <td>...</td>\n",
       "      <td>NaN</td>\n",
       "      <td>NaN</td>\n",
       "      <td>Alameda</td>\n",
       "      <td>Car-Dependent</td>\n",
       "      <td>3.0</td>\n",
       "      <td>NaN</td>\n",
       "      <td>NaN</td>\n",
       "      <td>Somewhat Bikeable</td>\n",
       "      <td>17.0</td>\n",
       "      <td>4</td>\n",
       "    </tr>\n",
       "    <tr>\n",
       "      <th>1</th>\n",
       "      <td>4453 Porter St</td>\n",
       "      <td>Fremont</td>\n",
       "      <td>CA</td>\n",
       "      <td>94538</td>\n",
       "      <td>799000</td>\n",
       "      <td>3.0</td>\n",
       "      <td>NaN</td>\n",
       "      <td>841.0</td>\n",
       "      <td>950.0</td>\n",
       "      <td>7</td>\n",
       "      <td>...</td>\n",
       "      <td>5,362 square feet</td>\n",
       "      <td>NaN</td>\n",
       "      <td>Alameda</td>\n",
       "      <td>Somewhat Walkable</td>\n",
       "      <td>50.0</td>\n",
       "      <td>Minimal Transit</td>\n",
       "      <td>37.0</td>\n",
       "      <td>Bikeable</td>\n",
       "      <td>50.0</td>\n",
       "      <td>3</td>\n",
       "    </tr>\n",
       "    <tr>\n",
       "      <th>2</th>\n",
       "      <td>661 Lee Ave</td>\n",
       "      <td>San Leandro</td>\n",
       "      <td>CA</td>\n",
       "      <td>94577</td>\n",
       "      <td>799000</td>\n",
       "      <td>2.0</td>\n",
       "      <td>1.5</td>\n",
       "      <td>515.0</td>\n",
       "      <td>1550.0</td>\n",
       "      <td>12</td>\n",
       "      <td>...</td>\n",
       "      <td>3,900 square feet</td>\n",
       "      <td>NaN</td>\n",
       "      <td>Alameda</td>\n",
       "      <td>Very Walkable</td>\n",
       "      <td>81.0</td>\n",
       "      <td>Good Transit</td>\n",
       "      <td>54.0</td>\n",
       "      <td>Very Bikeable</td>\n",
       "      <td>73.0</td>\n",
       "      <td>3</td>\n",
       "    </tr>\n",
       "    <tr>\n",
       "      <th>3</th>\n",
       "      <td>2070 Forino Dr</td>\n",
       "      <td>Dublin</td>\n",
       "      <td>CA</td>\n",
       "      <td>94568</td>\n",
       "      <td>1489000</td>\n",
       "      <td>5.0</td>\n",
       "      <td>3.5</td>\n",
       "      <td>420.0</td>\n",
       "      <td>3545.0</td>\n",
       "      <td>5</td>\n",
       "      <td>...</td>\n",
       "      <td>5,140 square feet</td>\n",
       "      <td>2</td>\n",
       "      <td>Alameda</td>\n",
       "      <td>Car-Dependent</td>\n",
       "      <td>13.0</td>\n",
       "      <td>NaN</td>\n",
       "      <td>NaN</td>\n",
       "      <td>Somewhat Bikeable</td>\n",
       "      <td>11.0</td>\n",
       "      <td>5</td>\n",
       "    </tr>\n",
       "    <tr>\n",
       "      <th>4</th>\n",
       "      <td>5321 N Esprit Loop</td>\n",
       "      <td>Dublin</td>\n",
       "      <td>CA</td>\n",
       "      <td>94568</td>\n",
       "      <td>790000</td>\n",
       "      <td>3.0</td>\n",
       "      <td>2.5</td>\n",
       "      <td>494.0</td>\n",
       "      <td>1598.0</td>\n",
       "      <td>5</td>\n",
       "      <td>...</td>\n",
       "      <td>NaN</td>\n",
       "      <td>3+</td>\n",
       "      <td>Alameda</td>\n",
       "      <td>Somewhat Walkable</td>\n",
       "      <td>54.0</td>\n",
       "      <td>NaN</td>\n",
       "      <td>NaN</td>\n",
       "      <td>Very Bikeable</td>\n",
       "      <td>90.0</td>\n",
       "      <td>3</td>\n",
       "    </tr>\n",
       "  </tbody>\n",
       "</table>\n",
       "<p>5 rows × 27 columns</p>\n",
       "</div>"
      ],
      "text/plain": [
       "                  address     locality region postal_code    price  beds  \\\n",
       "0  3715 Branding Iron Pl        Dublin     CA       94568   540000   2.0   \n",
       "1         4453 Porter St       Fremont     CA       94538   799000   3.0   \n",
       "2            661 Lee Ave   San Leandro     CA       94577   799000   2.0   \n",
       "3         2070 Forino Dr        Dublin     CA       94568  1489000   5.0   \n",
       "4     5321 N Esprit Loop        Dublin     CA       94568   790000   3.0   \n",
       "\n",
       "   baths  per_sq_ft    area  on_redfin  ...           lot_size  stories  \\\n",
       "0    1.5      531.0  1017.0          6  ...                NaN      NaN   \n",
       "1    NaN      841.0   950.0          7  ...  5,362 square feet      NaN   \n",
       "2    1.5      515.0  1550.0         12  ...  3,900 square feet      NaN   \n",
       "3    3.5      420.0  3545.0          5  ...  5,140 square feet        2   \n",
       "4    2.5      494.0  1598.0          5  ...                NaN       3+   \n",
       "\n",
       "    county           walkable walkable Score          transit transit score  \\\n",
       "0  Alameda      Car-Dependent            3.0              NaN           NaN   \n",
       "1  Alameda  Somewhat Walkable           50.0  Minimal Transit          37.0   \n",
       "2  Alameda      Very Walkable           81.0     Good Transit          54.0   \n",
       "3  Alameda      Car-Dependent           13.0              NaN           NaN   \n",
       "4  Alameda  Somewhat Walkable           54.0              NaN           NaN   \n",
       "\n",
       "            bikeable bikeable score # of schools  \n",
       "0  Somewhat Bikeable           17.0            4  \n",
       "1           Bikeable           50.0            3  \n",
       "2      Very Bikeable           73.0            3  \n",
       "3  Somewhat Bikeable           11.0            5  \n",
       "4      Very Bikeable           90.0            3  \n",
       "\n",
       "[5 rows x 27 columns]"
      ]
     },
     "execution_count": 15,
     "metadata": {},
     "output_type": "execute_result"
    }
   ],
   "source": [
    "###2.\tWhere are the luxury homes located for potential new buyers? Price greater than 2M$.\n",
    "data_new=pd.read_excel(\"F:/ALL SUB/SEM 2/DATA ANALYTICS/Project/Cleaned_data/Data_Cleaned_Files/Redfin_New_Cleaned.xlsx\")\n",
    "data_new.head(5)"
   ]
  },
  {
   "cell_type": "code",
   "execution_count": 16,
   "metadata": {},
   "outputs": [
    {
     "data": {
      "text/plain": [
       "county\n",
       "Napa             4199750\n",
       "Merced           3990000\n",
       "Santa Barbara    3695000\n",
       "Orange           3595000\n",
       "Lake             3500000\n",
       "Name: price, dtype: int64"
      ]
     },
     "execution_count": 16,
     "metadata": {},
     "output_type": "execute_result"
    }
   ],
   "source": [
    "from matplotlib import pyplot as plt\n",
    "from itertools import cycle, islice\n",
    "import pandas, numpy as np  \n",
    "price= data_new[ (data_new['price']>2000000) &  (data_new['price'] < 100000000) ]\n",
    "x= price.groupby(\"county\")[\"price\"].median()\n",
    "#len(data)\n",
    "x.sort_values(ascending=False,inplace=True)\n",
    "x=x.head(5)\n",
    "x\n",
    "#df = pandas.DataFrame(x)\n",
    "\n"
   ]
  },
  {
   "cell_type": "code",
   "execution_count": 17,
   "metadata": {},
   "outputs": [
    {
     "data": {
      "image/png": "[encoded data removed]",
      "text/plain": [
       "<Figure size 720x360 with 1 Axes>"
      ]
     },
     "metadata": {
      "needs_background": "light"
     },
     "output_type": "display_data"
    }
   ],
   "source": [
    "plt.figure(figsize=(10,5))\n",
    "ax= x.plot(kind='barh',width=0.8)\n",
    "plt.xlabel('Price')\n",
    "plt.ylabel('County')\n",
    "plt.title(\"median_house_price> 2M\")\n",
    "plt.barh(x.index,x.values,color=['blue','brown', 'green', 'cyan','magenta'],alpha=0.9)\n",
    "\n",
    "for i in ax.patches[:10]:\n",
    "    #get_width pulls left or right; get_y pushes up or down\n",
    "    ax.text(i.get_width()+5, i.get_y()+.5, \\\n",
    "           str(round((i.get_width()), 1)), fontsize=11)\n",
    "\n",
    "# invert for largest on top \n",
    "ax.invert_yaxis()\n",
    "plt.show()\n"
   ]
  },
  {
   "attachments": {
    "image.png": {
     "image/png": "[encoded data removed]"
    }
   },
   "cell_type": "markdown",
   "metadata": {},
   "source": [
    "# Question 1 Regression Analysis to predict house values/prices in Solano County\u000b",
    "![image.png](attachment:image.png)"
   ]
  },
  {
   "cell_type": "code",
   "execution_count": 24,
   "metadata": {},
   "outputs": [
    {
     "data": {
      "text/plain": [
       "194"
      ]
     },
     "execution_count": 24,
     "metadata": {},
     "output_type": "execute_result"
    }
   ],
   "source": [
    "data_sold=pd.read_excel(data_dir+sold_data_file)\n",
    "data=data_sold[data_sold['sold_price_list'].notnull()]\n",
    "data=data.loc[(data['county']=='Solano') & (data['sold_price_list'] > 100000) & (data['sold_price_list'] < 2000000),:].fillna(method='ffill')\n",
    "len(data)      \n"
   ]
  },
  {
   "cell_type": "code",
   "execution_count": 22,
   "metadata": {},
   "outputs": [],
   "source": [
    "X = data[['beds', 'baths', 'transit score', 'bikeable score', '# of schools']].values\n",
    "y = data['sold_price_list'].values"
   ]
  },
  {
   "cell_type": "code",
   "execution_count": 25,
   "metadata": {},
   "outputs": [
    {
     "data": {
      "text/plain": [
       "<matplotlib.axes._subplots.AxesSubplot at 0x19082708358>"
      ]
     },
     "execution_count": 25,
     "metadata": {},
     "output_type": "execute_result"
    },
    {
     "data": {
      "image/png": "[encoded data removed]",
      "text/plain": [
       "<Figure size 1080x720 with 1 Axes>"
      ]
     },
     "metadata": {
      "needs_background": "light"
     },
     "output_type": "display_data"
    }
   ],
   "source": [
    "plt.figure(figsize=(15,10))\n",
    "plt.tight_layout()\n",
    "seabornInstance.distplot(data['sold_price_list'])"
   ]
  },
  {
   "cell_type": "code",
   "execution_count": 26,
   "metadata": {},
   "outputs": [],
   "source": [
    "X_train, X_test, y_train, y_test = train_test_split(X, y, test_size=0.2, random_state=0)"
   ]
  },
  {
   "cell_type": "code",
   "execution_count": 33,
   "metadata": {},
   "outputs": [
    {
     "data": {
      "text/plain": [
       "LinearRegression(copy_X=True, fit_intercept=True, n_jobs=None, normalize=False)"
      ]
     },
     "execution_count": 33,
     "metadata": {},
     "output_type": "execute_result"
    }
   ],
   "source": [
    "regressor = LinearRegression()  \n",
    "regressor.fit(X_train, y_train)"
   ]
  },
  {
   "cell_type": "code",
   "execution_count": 34,
   "metadata": {},
   "outputs": [],
   "source": [
    "y_pred = regressor.predict(X_test)"
   ]
  },
  {
   "cell_type": "code",
   "execution_count": 35,
   "metadata": {},
   "outputs": [],
   "source": [
    "df = pd.DataFrame({'Actual': y_test, 'Predicted': y_pred})\n",
    "df1 = df.head(25)"
   ]
  },
  {
   "cell_type": "code",
   "execution_count": 36,
   "metadata": {},
   "outputs": [
    {
     "data": {
      "image/png": "[encoded data removed]",
      "text/plain": [
       "<Figure size 720x360 with 1 Axes>"
      ]
     },
     "metadata": {
      "needs_background": "light"
     },
     "output_type": "display_data"
    }
   ],
   "source": [
    "df1.plot(kind='bar',figsize=(10,5))\n",
    "plt.grid(which='major', linestyle='-', linewidth='0.5', color='green')\n",
    "plt.grid(which='minor', linestyle=':', linewidth='0.5', color='black')\n",
    "plt.xlabel(\"data_points\")\n",
    "plt.ylabel(\"values\")\n",
    "plt.title(\"Actual v/s Predicted Prices\")\n",
    "plt.show()"
   ]
  },
  {
   "cell_type": "code",
   "execution_count": 37,
   "metadata": {},
   "outputs": [
    {
     "name": "stdout",
     "output_type": "stream",
     "text": [
      "Mean Absolute Error: 51651.530168893674\n",
      "Mean Squared Error: 6022235710.364971\n",
      "Root Mean Squared Error: 77603.0650835711\n"
     ]
    }
   ],
   "source": [
    "print('Mean Absolute Error:', metrics.mean_absolute_error(y_test, y_pred))  \n",
    "print('Mean Squared Error:', metrics.mean_squared_error(y_test, y_pred))  \n",
    "print('Root Mean Squared Error:', np.sqrt(metrics.mean_squared_error(y_test, y_pred)))"
   ]
  },
  {
   "cell_type": "code",
   "execution_count": null,
   "metadata": {},
   "outputs": [],
   "source": []
  }
 ],
 "metadata": {
  "kernelspec": {
   "display_name": "Python 3",
   "language": "python",
   "name": "python3"
  },
  "language_info": {
   "codemirror_mode": {
    "name": "ipython",
    "version": 3
   },
   "file_extension": ".py",
   "mimetype": "text/x-python",
   "name": "python",
   "nbconvert_exporter": "python",
   "pygments_lexer": "ipython3",
   "version": "3.7.3"
  }
 },
 "nbformat": 4,
 "nbformat_minor": 2
}
